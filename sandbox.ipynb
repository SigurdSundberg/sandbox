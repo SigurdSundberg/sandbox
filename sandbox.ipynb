{
 "cells": [
  {
   "cell_type": "code",
   "execution_count": 1,
   "id": "existing-lease",
   "metadata": {},
   "outputs": [],
   "source": [
    "from typing import Dict, List, Tuple\n",
    "import numpy as np\n",
    "import pandas as pd"
   ]
  },
  {
   "cell_type": "code",
   "execution_count": 40,
   "id": "interpreted-poster",
   "metadata": {},
   "outputs": [],
   "source": [
    "path= \"./data/discharge_data_100/2.11.q\"\n",
    "data_df= pd.read_csv(path, delim_whitespace=True, parse_dates=[0], names=[\"date\", \"discharge\"])"
   ]
  },
  {
   "cell_type": "code",
   "execution_count": 41,
   "id": "equal-taylor",
   "metadata": {},
   "outputs": [],
   "source": [
    "working = data_df.copy()"
   ]
  },
  {
   "cell_type": "code",
   "execution_count": 42,
   "id": "original-annex",
   "metadata": {},
   "outputs": [],
   "source": [
    "working[\"day\"] = working[\"date\"].dt.day\n",
    "working[\"month\"] = working[\"date\"].dt.month\n",
    "working[\"year\"] = working[\"date\"].dt.year"
   ]
  },
  {
   "cell_type": "code",
   "execution_count": 43,
   "id": "under-wound",
   "metadata": {
    "scrolled": true
   },
   "outputs": [],
   "source": [
    "indexes = list(zip(working[\"year\"], working[\"month\"], working[\"day\"]))"
   ]
  },
  {
   "cell_type": "code",
   "execution_count": 44,
   "id": "communist-shaft",
   "metadata": {
    "scrolled": true
   },
   "outputs": [],
   "source": [
    "index = pd.MultiIndex.from_tuples(indexes, names=[\"year\",\"month\",\"day\"])"
   ]
  },
  {
   "cell_type": "code",
   "execution_count": 103,
   "id": "positive-warren",
   "metadata": {
    "scrolled": true
   },
   "outputs": [
    {
     "name": "stdout",
     "output_type": "stream",
     "text": [
      "1930 2020 12\n"
     ]
    }
   ],
   "source": [
    "first_year = working[\"year\"].iloc[0]\n",
    "last_year = working[\"year\"].iloc[-1]\n",
    "last_month = working[\"month\"].iloc[-1]\n",
    "print(first_year, last_year, last_month)"
   ]
  },
  {
   "cell_type": "code",
   "execution_count": 104,
   "id": "amended-deadline",
   "metadata": {},
   "outputs": [],
   "source": [
    "final = pd.DataFrame(working[\"discharge\"], copy=True)\n",
    "final.set_index(index, inplace=True)"
   ]
  },
  {
   "cell_type": "code",
   "execution_count": 105,
   "id": "educational-feedback",
   "metadata": {},
   "outputs": [],
   "source": [
    "hyearstart = (final.iloc[0].name[0],9,1)\n",
    "hyearend = (final.iloc[-1].name[0], 8, 31)"
   ]
  },
  {
   "cell_type": "code",
   "execution_count": 106,
   "id": "straight-wallet",
   "metadata": {},
   "outputs": [],
   "source": [
    "loc_start = final.index.get_loc(hyearstart)\n",
    "loc_end = final.index.get_loc(hyearend)"
   ]
  },
  {
   "cell_type": "code",
   "execution_count": 107,
   "id": "prime-benchmark",
   "metadata": {},
   "outputs": [
    {
     "data": {
      "text/html": [
       "<div>\n",
       "<style scoped>\n",
       "    .dataframe tbody tr th:only-of-type {\n",
       "        vertical-align: middle;\n",
       "    }\n",
       "\n",
       "    .dataframe tbody tr th {\n",
       "        vertical-align: top;\n",
       "    }\n",
       "\n",
       "    .dataframe thead th {\n",
       "        text-align: right;\n",
       "    }\n",
       "</style>\n",
       "<table border=\"1\" class=\"dataframe\">\n",
       "  <thead>\n",
       "    <tr style=\"text-align: right;\">\n",
       "      <th></th>\n",
       "      <th></th>\n",
       "      <th></th>\n",
       "      <th>discharge</th>\n",
       "    </tr>\n",
       "    <tr>\n",
       "      <th>year</th>\n",
       "      <th>month</th>\n",
       "      <th>day</th>\n",
       "      <th></th>\n",
       "    </tr>\n",
       "  </thead>\n",
       "  <tbody>\n",
       "    <tr>\n",
       "      <th rowspan=\"5\" valign=\"top\">1930</th>\n",
       "      <th rowspan=\"5\" valign=\"top\">9</th>\n",
       "      <th>1</th>\n",
       "      <td>1.771332</td>\n",
       "    </tr>\n",
       "    <tr>\n",
       "      <th>2</th>\n",
       "      <td>1.771332</td>\n",
       "    </tr>\n",
       "    <tr>\n",
       "      <th>3</th>\n",
       "      <td>1.771332</td>\n",
       "    </tr>\n",
       "    <tr>\n",
       "      <th>4</th>\n",
       "      <td>1.771332</td>\n",
       "    </tr>\n",
       "    <tr>\n",
       "      <th>5</th>\n",
       "      <td>1.839270</td>\n",
       "    </tr>\n",
       "    <tr>\n",
       "      <th>...</th>\n",
       "      <th>...</th>\n",
       "      <th>...</th>\n",
       "      <td>...</td>\n",
       "    </tr>\n",
       "    <tr>\n",
       "      <th rowspan=\"5\" valign=\"top\">2020</th>\n",
       "      <th rowspan=\"5\" valign=\"top\">8</th>\n",
       "      <th>27</th>\n",
       "      <td>1.003435</td>\n",
       "    </tr>\n",
       "    <tr>\n",
       "      <th>28</th>\n",
       "      <td>0.979813</td>\n",
       "    </tr>\n",
       "    <tr>\n",
       "      <th>29</th>\n",
       "      <td>0.920514</td>\n",
       "    </tr>\n",
       "    <tr>\n",
       "      <th>30</th>\n",
       "      <td>0.963775</td>\n",
       "    </tr>\n",
       "    <tr>\n",
       "      <th>31</th>\n",
       "      <td>0.979813</td>\n",
       "    </tr>\n",
       "  </tbody>\n",
       "</table>\n",
       "<p>32873 rows × 1 columns</p>\n",
       "</div>"
      ],
      "text/plain": [
       "                discharge\n",
       "year month day           \n",
       "1930 9     1     1.771332\n",
       "           2     1.771332\n",
       "           3     1.771332\n",
       "           4     1.771332\n",
       "           5     1.839270\n",
       "...                   ...\n",
       "2020 8     27    1.003435\n",
       "           28    0.979813\n",
       "           29    0.920514\n",
       "           30    0.963775\n",
       "           31    0.979813\n",
       "\n",
       "[32873 rows x 1 columns]"
      ]
     },
     "execution_count": 107,
     "metadata": {},
     "output_type": "execute_result"
    }
   ],
   "source": [
    "final = final.loc[hyearstart:hyearend]\n",
    "final"
   ]
  },
  {
   "cell_type": "code",
   "execution_count": 108,
   "id": "impressed-issue",
   "metadata": {},
   "outputs": [
    {
     "data": {
      "text/html": [
       "<div>\n",
       "<style scoped>\n",
       "    .dataframe tbody tr th:only-of-type {\n",
       "        vertical-align: middle;\n",
       "    }\n",
       "\n",
       "    .dataframe tbody tr th {\n",
       "        vertical-align: top;\n",
       "    }\n",
       "\n",
       "    .dataframe thead th {\n",
       "        text-align: right;\n",
       "    }\n",
       "</style>\n",
       "<table border=\"1\" class=\"dataframe\">\n",
       "  <thead>\n",
       "    <tr style=\"text-align: right;\">\n",
       "      <th></th>\n",
       "      <th></th>\n",
       "      <th></th>\n",
       "      <th>discharge</th>\n",
       "    </tr>\n",
       "    <tr>\n",
       "      <th>year</th>\n",
       "      <th>month</th>\n",
       "      <th>day</th>\n",
       "      <th></th>\n",
       "    </tr>\n",
       "  </thead>\n",
       "  <tbody>\n",
       "    <tr>\n",
       "      <th rowspan=\"5\" valign=\"top\">1930</th>\n",
       "      <th rowspan=\"5\" valign=\"top\">9</th>\n",
       "      <th>1</th>\n",
       "      <td>1.771332</td>\n",
       "    </tr>\n",
       "    <tr>\n",
       "      <th>2</th>\n",
       "      <td>1.771332</td>\n",
       "    </tr>\n",
       "    <tr>\n",
       "      <th>3</th>\n",
       "      <td>1.771332</td>\n",
       "    </tr>\n",
       "    <tr>\n",
       "      <th>4</th>\n",
       "      <td>1.771332</td>\n",
       "    </tr>\n",
       "    <tr>\n",
       "      <th>5</th>\n",
       "      <td>1.839270</td>\n",
       "    </tr>\n",
       "    <tr>\n",
       "      <th>...</th>\n",
       "      <th>...</th>\n",
       "      <th>...</th>\n",
       "      <td>...</td>\n",
       "    </tr>\n",
       "    <tr>\n",
       "      <th rowspan=\"5\" valign=\"top\">2020</th>\n",
       "      <th rowspan=\"5\" valign=\"top\">8</th>\n",
       "      <th>27</th>\n",
       "      <td>1.003435</td>\n",
       "    </tr>\n",
       "    <tr>\n",
       "      <th>28</th>\n",
       "      <td>0.979813</td>\n",
       "    </tr>\n",
       "    <tr>\n",
       "      <th>29</th>\n",
       "      <td>0.920514</td>\n",
       "    </tr>\n",
       "    <tr>\n",
       "      <th>30</th>\n",
       "      <td>0.963775</td>\n",
       "    </tr>\n",
       "    <tr>\n",
       "      <th>31</th>\n",
       "      <td>0.979813</td>\n",
       "    </tr>\n",
       "  </tbody>\n",
       "</table>\n",
       "<p>32873 rows × 1 columns</p>\n",
       "</div>"
      ],
      "text/plain": [
       "                discharge\n",
       "year month day           \n",
       "1930 9     1     1.771332\n",
       "           2     1.771332\n",
       "           3     1.771332\n",
       "           4     1.771332\n",
       "           5     1.839270\n",
       "...                   ...\n",
       "2020 8     27    1.003435\n",
       "           28    0.979813\n",
       "           29    0.920514\n",
       "           30    0.963775\n",
       "           31    0.979813\n",
       "\n",
       "[32873 rows x 1 columns]"
      ]
     },
     "execution_count": 108,
     "metadata": {},
     "output_type": "execute_result"
    }
   ],
   "source": [
    "# final[\"truth\"] = final[\"discharge\"] == -9999\n",
    "final"
   ]
  },
  {
   "cell_type": "code",
   "execution_count": 53,
   "id": "selective-string",
   "metadata": {},
   "outputs": [
    {
     "data": {
      "text/plain": [
       "False    32873\n",
       "Name: truth, dtype: int64"
      ]
     },
     "execution_count": 53,
     "metadata": {},
     "output_type": "execute_result"
    }
   ],
   "source": [
    "# final[\"truth\"].value_counts()"
   ]
  },
  {
   "cell_type": "code",
   "execution_count": 109,
   "id": "smoking-beatles",
   "metadata": {},
   "outputs": [],
   "source": [
    "final.iloc[200] = -9999\n",
    "final.iloc[300] = -9999"
   ]
  },
  {
   "cell_type": "code",
   "execution_count": 115,
   "id": "fitting-excerpt",
   "metadata": {},
   "outputs": [],
   "source": [
    "nan_values = final[\"discharge\"] == -9999\n",
    "nr_nan_values = nan_values.value_counts()\n",
    "if nr_nan_values.loc[True] != 0:\n",
    "    loc_nan = nan_values[nan_values==True].index.values"
   ]
  },
  {
   "cell_type": "code",
   "execution_count": 116,
   "id": "southwest-summary",
   "metadata": {},
   "outputs": [
    {
     "data": {
      "text/plain": [
       "numpy.ndarray"
      ]
     },
     "execution_count": 116,
     "metadata": {},
     "output_type": "execute_result"
    }
   ],
   "source": [
    "type(loc_nan)"
   ]
  },
  {
   "cell_type": "code",
   "execution_count": null,
   "id": "permanent-benefit",
   "metadata": {},
   "outputs": [],
   "source": []
  },
  {
   "cell_type": "code",
   "execution_count": null,
   "id": "cardiovascular-pension",
   "metadata": {},
   "outputs": [],
   "source": []
  }
 ],
 "metadata": {
  "kernelspec": {
   "display_name": "Python 3.8.10 64-bit",
   "language": "python",
   "name": "python3810jvsc74a57bd031f2aee4e71d21fbe5cf8b01ff0e069b9275f58929596ceb00d14d90e3e16cd6"
  },
  "language_info": {
   "codemirror_mode": {
    "name": "ipython",
    "version": 3
   },
   "file_extension": ".py",
   "mimetype": "text/x-python",
   "name": "python",
   "nbconvert_exporter": "python",
   "pygments_lexer": "ipython3",
   "version": "3.8.10"
  }
 },
 "nbformat": 4,
 "nbformat_minor": 5
}
