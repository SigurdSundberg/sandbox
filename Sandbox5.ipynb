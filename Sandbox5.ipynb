{
 "cells": [
  {
   "cell_type": "code",
   "execution_count": 9,
   "id": "compressed-aurora",
   "metadata": {},
   "outputs": [],
   "source": [
    "import numpy as np \n",
    "reflect = 30\n",
    "tuple_a = (10, 20, 10, 10)\n",
    "tuple_b = (25, 27, 2, 5)\n",
    "tuple_c = (30, 40, 10, 3)\n",
    "# tuple_d = (200, 201, 1, 160)\n",
    "tmp_nan_list = [tuple_a, tuple_b, tuple_c]#, tuple_d]"
   ]
  },
  {
   "cell_type": "code",
   "execution_count": 12,
   "id": "transsexual-shooting",
   "metadata": {},
   "outputs": [
    {
     "data": {
      "text/plain": [
       "[(10, 40, 30, 10)]"
      ]
     },
     "execution_count": 12,
     "metadata": {},
     "output_type": "execute_result"
    }
   ],
   "source": [
    "tmp_list = []\n",
    "tmp_list2 = []\n",
    "tmp_list3 = []\n",
    "tmp_list4 = []\n",
    "\n",
    "for nan_indicies in tmp_nan_list:\n",
    "    v1 = nan_indicies[0]\n",
    "    v2 = nan_indicies[1]\n",
    "    v3 = nan_indicies[2]\n",
    "    v4 = nan_indicies[3]\n",
    "    if v4 < reflect:\n",
    "        # If this is the case we want to skip all the series which are shorter than the reflect length.\n",
    "        # Would then use the previous initial value and last value as the edges of the nan-series.\n",
    "\n",
    "        # This method works but is dumb af\n",
    "        tmp_list.append(v1)  # Append first value\n",
    "        tmp_list.append(v2)  # Append last value\n",
    "        tmp_list2.append(v3)  # Append Length_Nan\n",
    "        tmp_list3.append(v4)  # Append Length_NoNan\n",
    "    elif nan_indicies == tmp_nan_list[-1]: \n",
    "        a = tmp_list[0]\n",
    "        b = tmp_list[-1]\n",
    "        tmp_list4.append((a,b,b-a,tmp_list3[0]))\n",
    "\n",
    "    else:\n",
    "        a = tmp_list[0]\n",
    "        b = tmp_list[-1]\n",
    "        c = b - a\n",
    "\n",
    "        tmp_list4.append((a, b, c, tmp_list3[0]))\n",
    "\n",
    "        tmp_list = []\n",
    "        tmp_list2 = []\n",
    "        tmp_list3 = []\n",
    "tmp_list4"
   ]
  }
 ],
 "metadata": {
  "kernelspec": {
   "display_name": "Python 3",
   "language": "python",
   "name": "python3"
  },
  "language_info": {
   "codemirror_mode": {
    "name": "ipython",
    "version": 3
   },
   "file_extension": ".py",
   "mimetype": "text/x-python",
   "name": "python",
   "nbconvert_exporter": "python",
   "pygments_lexer": "ipython3",
   "version": "3.8.10"
  }
 },
 "nbformat": 4,
 "nbformat_minor": 5
}
