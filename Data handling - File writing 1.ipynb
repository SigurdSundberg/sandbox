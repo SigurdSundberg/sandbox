{
 "cells": [
  {
   "cell_type": "code",
   "execution_count": 126,
   "id": "motivated-ridge",
   "metadata": {},
   "outputs": [],
   "source": [
    "import numpy as np \n",
    "import pandas as pd \n",
    "import os \n",
    "from typing import Dict, List, Tuple\n",
    "import shutil"
   ]
  },
  {
   "cell_type": "code",
   "execution_count": 127,
   "id": "sound-lesson",
   "metadata": {},
   "outputs": [],
   "source": [
    "def _get_list_of_files(folder_path) -> Tuple[List, List]:\n",
    "    folder: os.DirEntry = os.scandir(folder_path)          # Reads the directory\n",
    "    for file in folder:                                         # Loop over files\n",
    "        if file.name[-len(filetype):] == filetype:    # Checks for files of filetype\n",
    "            folder_list_data.append(file.name)             # Adds filenames with correct filetype to list\n",
    "        else:\n",
    "            folder_list_supplementary.append(file.name)    # Add all other files to a supplementary list\n",
    "    folder.close()                                              # Close the folder to prevent mishaps\n",
    "    return (folder_list_data, folder_list_supplementary)"
   ]
  },
  {
   "cell_type": "code",
   "execution_count": 128,
   "id": "sunset-discussion",
   "metadata": {},
   "outputs": [],
   "source": [
    "def sample_data(sample):\n",
    "    def _read_file_unparsed(path) -> pd.DataFrame:\n",
    "        df_input = pd.read_csv(path, delim_whitespace=True, parse_dates=[0], names=[\"date\", \"discharge\"]) # Creates a dataframe with space as delim\n",
    "        return df_input\n",
    "    def _slice_dataframe(df_input) -> pd.DataFrame:\n",
    "        df_input[\"day\"] = df_input[\"date\"].dt.day\n",
    "        df_input[\"month\"] = df_input[\"date\"].dt.month\n",
    "        df_input[\"year\"] = df_input[\"date\"].dt.year\n",
    "        indexes = list(zip(df_input[\"year\"], df_input[\"month\"], df_input[\"day\"]))\n",
    "        index = pd.MultiIndex.from_tuples(indexes, names=[\"year\", \"month\", \"day\"])\n",
    "        df_output: pd.DataFrame = pd.DataFrame(df_input[\"discharge\"], copy=True)\n",
    "        df_output.set_index(index, inplace=True)\n",
    "\n",
    "        hyearstart = (df_output.iloc[0].name[0], 9, 1)             # Start of the hydrological year in Norway\n",
    "        hyearend = (df_output.iloc[-1].name[0], 8, 31)             # End of the hydrological year in Norway\n",
    "        df_output = df_output.loc[hyearstart:hyearend]        # Slice the df to fit within the hydrological years\n",
    "        \n",
    "        # This trims the head and tail of data sets to make them span a hydrological year, without having nan-values at start and end\n",
    "        \n",
    "        parse = True\n",
    "        while parse: \n",
    "            start = df_output.iloc[0].name[0]\n",
    "            slutt = df_output.iloc[-1].name[0]\n",
    "            slice_head = df_output.loc[(start, 9, 1)].values == -9999\n",
    "            slice_tail = df_output.loc[(slutt, 8, 31)].values == -9999\n",
    "            \n",
    "            if slice_head:\n",
    "                hyearstart = (start + 1, 9, 1)\n",
    "            if slice_tail:\n",
    "                hyearend = (slutt - 1, 8, 31) \n",
    "            df_output = df_output.loc[hyearstart:hyearend]\n",
    "            end_loop = df_output.loc[(start + 1, 9, 1)].values != -9999\n",
    "            if end_loop:\n",
    "                parse = False\n",
    "            \n",
    "        return df_output\n",
    "    df = _read_file_unparsed(sample)\n",
    "    df = _slice_dataframe(df)\n",
    "    return df"
   ]
  },
  {
   "cell_type": "code",
   "execution_count": 145,
   "id": "center-lesson",
   "metadata": {},
   "outputs": [],
   "source": [
    "def _create_metadata_df(file_path):\n",
    "    df = pd.read_csv(file_path, delim_whitespace=True, header=0, index_col=[0,1])\n",
    "    return df"
   ]
  },
  {
   "cell_type": "code",
   "execution_count": 161,
   "id": "occupied-reaction",
   "metadata": {},
   "outputs": [],
   "source": [
    "def _write_to_file_unparsed(file, path, df, sample_data, supp_data = [-9999]*3):\n",
    "    string_final = _create_string_metadata(file, df, supp_data) # Key is file\n",
    "    path_final = path + file\n",
    "    with open(path_final, \"w\") as o:\n",
    "        o.write(\"# \" + string_final + \"\\n\")\n",
    "        o.write(\"#\"*50 + \"\\n\")\n",
    "    sample_data.to_csv(path_final, sep=\" \", mode=\"a\")\n",
    "    "
   ]
  },
  {
   "cell_type": "code",
   "execution_count": 151,
   "id": "wireless-harvest",
   "metadata": {},
   "outputs": [],
   "source": [
    "def _folder_management(folder_path):\n",
    "    if os.path.exists(folder_path):\n",
    "        shutil.rmtree(folder_path)\n",
    "        os.mkdir(folder_path)\n",
    "    else:\n",
    "        os.mkdir(folder_path)"
   ]
  },
  {
   "cell_type": "code",
   "execution_count": 148,
   "id": "through-seeker",
   "metadata": {},
   "outputs": [],
   "source": [
    "def _create_string_metadata(file, df, data):\n",
    "#     dict_of_string = {}\n",
    "    reg, main = file[:-2].split(\".\") # [\"1\", \"2\"]\n",
    "    meta_data = df.loc[(int(reg), int(main))]\n",
    "    meta_data = meta_data.apply(str)\n",
    "    index = meta_data.index\n",
    "    values = meta_data.values\n",
    "    temp_list = [\"regno \" + reg, \"mainno \" + main]\n",
    "    for x,y in zip(index, values):\n",
    "        temp_list.append(\" \".join([x,y]))\n",
    "    temp_list.append(\"AAAA \" + str(data[0]))\n",
    "    temp_list.append(\"BBBB \" + str(data[1]))\n",
    "    temp_list.append(\"CCCC \" + str(data[2]))\n",
    "#     dict_of_string[file] = \" \".join(temp_list)\n",
    "    return \" \".join(temp_list)"
   ]
  },
  {
   "cell_type": "code",
   "execution_count": 149,
   "id": "received-greece",
   "metadata": {},
   "outputs": [],
   "source": [
    "def main():\n",
    "    folder_path = \"./data/\"\n",
    "    data_folder = \"discharge_data_100/\"\n",
    "    filetype = \".q\"\n",
    "    folder_list_data = []\n",
    "    folder_list_supplementary = []\n",
    "    \n",
    "    data, supp = _get_list_of_files(folder_path + data_folder)\n",
    "    sample_df = sample_data(folder_path + data_folder + data[0]) # A single dataframe used as a sample to save time\n",
    "    \n",
    "    mgn_path = folder_path + data_folder[:-1] + \"_parsed/\"\n",
    "    _folder_management(mgn_path)\n",
    "    \n",
    "    supp_file_path = folder_path + data_folder + supp[0]\n",
    "    station_df = _create_metadata_df(supp_file_path) # df of the .txt file with index (reg, main)\n",
    "    for file in data:\n",
    "        _write_to_file_unparsed(file, mgn_path, station_df, sample_df)\n"
   ]
  },
  {
   "cell_type": "code",
   "execution_count": 162,
   "id": "angry-dispatch",
   "metadata": {},
   "outputs": [],
   "source": [
    "main()"
   ]
  },
  {
   "cell_type": "code",
   "execution_count": null,
   "id": "weighted-ottawa",
   "metadata": {},
   "outputs": [],
   "source": []
  }
 ],
 "metadata": {
  "kernelspec": {
   "display_name": "Python 3.8.10 64-bit",
   "language": "python",
   "name": "python3810jvsc74a57bd031f2aee4e71d21fbe5cf8b01ff0e069b9275f58929596ceb00d14d90e3e16cd6"
  },
  "language_info": {
   "codemirror_mode": {
    "name": "ipython",
    "version": 3
   },
   "file_extension": ".py",
   "mimetype": "text/x-python",
   "name": "python",
   "nbconvert_exporter": "python",
   "pygments_lexer": "ipython3",
   "version": "3.8.10"
  }
 },
 "nbformat": 4,
 "nbformat_minor": 5
}
